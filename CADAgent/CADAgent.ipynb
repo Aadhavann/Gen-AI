{
  "nbformat": 4,
  "nbformat_minor": 0,
  "metadata": {
    "colab": {
      "provenance": []
    },
    "kernelspec": {
      "name": "python3",
      "display_name": "Python 3"
    },
    "language_info": {
      "name": "python"
    }
  },
  "cells": [
    {
      "cell_type": "code",
      "source": [
        "!pip install google_genai\n",
        "!pip install cadquery jupyter-cadquery\n"
      ],
      "metadata": {
        "id": "08Kw5mv-lHxZ"
      },
      "execution_count": null,
      "outputs": []
    },
    {
      "cell_type": "code",
      "execution_count": null,
      "metadata": {
        "id": "c8W-UfN5k3AG"
      },
      "outputs": [],
      "source": [
        "import traceback\n",
        "import json\n",
        "import math\n",
        "from google import genai\n",
        "from google.genai import types\n",
        "from kaggle_secrets import UserSecretsClient\n",
        "import cadquery as cq\n",
        "\n",
        "user_secrets = UserSecretsClient()\n",
        "GOOGLE_API_KEY = user_secrets.get_secret(\"GOOGLE_API_KEY\")\n",
        "client = genai.Client(api_key=GOOGLE_API_KEY)\n",
        "\n",
        "MODEL_ID = \"models/gemini-2.0-flash-exp\""
      ]
    },
    {
      "cell_type": "code",
      "source": [
        "# 1. The basic instruction/role for the AI\n",
        "instruction = \"\"\"You are an expert assistant helping generate Python code for 3D modeling using the CadQuery library.\n",
        "Generate only the Python code based on the user's request. Make sure the final object is assigned to a variable named 'result'.\n",
        "\"\"\"\n",
        "\n",
        "# 2. The examples (Few-Shot) - User/Assistant pattern\n",
        "examples = \"\"\"\n",
        "User: Create a 10x10x10 mm cube.\n",
        "Assistant:\n",
        "import cadquery as cq\n",
        "result = cq.Workplane(\"XY\").box(10, 10, 10)\n",
        "\n",
        "User: Make a solid cylinder with radius 5 and height 20.\n",
        "Assistant:\n",
        "import cadquery as cq\n",
        "result = cq.Workplane(\"XY\").cylinder(20, 5)\n",
        "\n",
        "User: Create a 20x20x5 block and cut a hole of radius 3 through the center of the top face.\n",
        "Assistant:\n",
        "import cadquery as cq\n",
        "result = cq.Workplane(\"XY\").box(20, 20, 5).faces(\">Z\").workplane().circle(3).cutThruAll()\n",
        "\"\"\""
      ],
      "metadata": {
        "id": "a8uG5TbHlUz3"
      },
      "execution_count": null,
      "outputs": []
    },
    {
      "cell_type": "code",
      "source": [
        "user_request = \"A plate 50mm long, 30mm wide, and 3mm thick with four 3mm diameter holes, one in each corner, 5mm inset from the edges\"\n",
        "\n",
        "final_prompt = f\"\"\"{instruction}\n",
        "\n",
        "Here are some examples:\n",
        "{examples}\n",
        "\n",
        "Now, fulfill this request:\n",
        "User: {user_request}\n",
        "Assistant:\n",
        "\"\"\""
      ],
      "metadata": {
        "id": "pHWBgzfblZmg"
      },
      "execution_count": null,
      "outputs": []
    },
    {
      "cell_type": "code",
      "source": [
        "response = client.models.generate_content(model=MODEL_ID,contents=final_prompt)\n",
        "generated_code_text = response.text"
      ],
      "metadata": {
        "id": "vWSdhFmjlb5I"
      },
      "execution_count": null,
      "outputs": []
    },
    {
      "cell_type": "code",
      "source": [
        "def cleanCode(uncleaned_code_text):\n",
        "    cleaned_code_text = uncleaned_code_text.strip()\n",
        "    if cleaned_code_text.startswith(\"```python\"):\n",
        "        cleaned_code_text = cleaned_code_text[len(\"```python\"):].strip()\n",
        "    elif cleaned_code_text.startswith(\"```json\"):\n",
        "        cleaned_code_text = cleaned_code_text[len(\"```json\"):].strip()\n",
        "    elif cleaned_code_text.startswith(\"```\"):\n",
        "        cleaned_code_text = cleaned_code_text[len(\"```\"):].strip()\n",
        "\n",
        "    if cleaned_code_text.endswith(\"```\"):\n",
        "        cleaned_code_text = cleaned_code_text[:-len(\"```\")].strip()\n",
        "\n",
        "    #print(cleaned_code_text)\n",
        "    return cleaned_code_text\n",
        "\n",
        "generated_code_text = cleanCode(generated_code_text)"
      ],
      "metadata": {
        "id": "zHWw_RSmlehP"
      },
      "execution_count": null,
      "outputs": []
    },
    {
      "cell_type": "code",
      "source": [
        "def execute_and_display(generated_python_code): # Renamed parameter for clarity\n",
        "    print(\"--- Attempting to Execute Code ---\")\n",
        "    print(generated_python_code)\n",
        "    print(\"------------------------------------\")\n",
        "    execution_scope = {'cq': cq} # Pre-populate scope with cadquery module alias\n",
        "    try:\n",
        "        # Execute the generated code string\n",
        "        # Pass globals() AND the local scope dict.\n",
        "        # Pre-populating with 'cq' helps if the generated code forgets the import sometimes (though yours includes it)\n",
        "        exec(generated_python_code, globals(), execution_scope)\n",
        "\n",
        "        # Retrieve the 'result' object from the scope\n",
        "        cadquery_object = execution_scope.get('result')\n",
        "\n",
        "        # Check and display\n",
        "        if cadquery_object and isinstance(cadquery_object, cq.Workplane): # More specific check\n",
        "            print(\"\\nCode executed successfully. Displaying model...\")\n",
        "            display(cadquery_object) # Use display() which works with jupyter-cadquery\n",
        "        elif 'result' not in execution_scope:\n",
        "             print(\"\\nError: The generated code did not create a 'result' variable in the execution scope.\")\n",
        "             # ADD DEBUGGING: Print the scope to see what *was* created\n",
        "             print(\"Execution scope contains keys:\", list(execution_scope.keys())) # See what variables ARE defined\n",
        "        else:\n",
        "             # ADD DEBUGGING: 'result' exists but isn't a Workplane object\n",
        "             print(\"\\nError: 'result' variable exists but is not a valid CadQuery Workplane object.\")\n",
        "             print(\"Generated code might be incorrect or incomplete.\")\n",
        "             print(\"Type of 'result' variable:\", type(cadquery_object))\n",
        "             print(\"Value of 'result' variable:\", cadquery_object)\n",
        "\n",
        "\n",
        "    except Exception as e:\n",
        "        print(f\"\\n--- Exception Occurred During Execution ---\")\n",
        "        print(f\"Error Type: {type(e)}\")\n",
        "        print(f\"Error Message: {e}\")\n",
        "        print(\"\\nTraceback:\")\n",
        "        traceback.print_exc() # Print the full traceback to diagnose the error location\n",
        "        print(\"\\n--- Generated Code That Caused Error ---\")\n",
        "        print(generated_python_code) # Print the code that was exec'd\n",
        "        print(\"---------------------------------------\")"
      ],
      "metadata": {
        "id": "nMvyH6kelodA"
      },
      "execution_count": null,
      "outputs": []
    },
    {
      "cell_type": "code",
      "source": [
        "execute_and_display(generated_code_text)"
      ],
      "metadata": {
        "id": "nwFU0c4HlvFA"
      },
      "execution_count": null,
      "outputs": []
    }
  ]
}