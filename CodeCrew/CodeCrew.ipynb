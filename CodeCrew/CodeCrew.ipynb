{
  "nbformat": 4,
  "nbformat_minor": 0,
  "metadata": {
    "colab": {
      "provenance": []
    },
    "kernelspec": {
      "name": "python3",
      "display_name": "Python 3"
    },
    "language_info": {
      "name": "python"
    }
  },
  "cells": [
    {
      "cell_type": "code",
      "execution_count": null,
      "metadata": {
        "id": "muwlNWRifGrZ"
      },
      "outputs": [],
      "source": [
        "!pip install -Uq \"google-genai==1.7.0\"\n",
        "!pip install faiss-cpu\n",
        "!pip install hf_xet\n",
        "!pip install gradio"
      ]
    },
    {
      "cell_type": "code",
      "source": [
        "from google import genai\n",
        "from google.genai import types\n",
        "from IPython.display import Markdown, display\n",
        "from sentence_transformers import SentenceTransformer\n",
        "import faiss\n",
        "import numpy as np\n",
        "import os"
      ],
      "metadata": {
        "id": "k45gkPBwfK1a"
      },
      "execution_count": null,
      "outputs": []
    },
    {
      "cell_type": "code",
      "source": [
        "os.environ[\"TOKENIZERS_PARALLELISM\"] = \"false\"\n",
        "os.environ['TF_CPP_MIN_LOG_LEVEL'] = '3'"
      ],
      "metadata": {
        "id": "vwhITyUhfOBA"
      },
      "execution_count": null,
      "outputs": []
    },
    {
      "cell_type": "code",
      "source": [
        "client = genai.Client(api_key=\"GOOGLE_API_KEY\")"
      ],
      "metadata": {
        "id": "yBDrSjcyfXLh"
      },
      "execution_count": null,
      "outputs": []
    },
    {
      "cell_type": "code",
      "source": [
        "# PEP 8 Guidelines for RAG\n",
        "pep8_guidelines = [\n",
        "    \"Use 4 spaces per indentation level.\",\n",
        "    \"Function names should be lowercase, with words separated by underscores.\",\n",
        "    \"Use blank lines to separate functions and classes.\",\n",
        "    \"Keep lines to a maximum of 79 characters.\",\n",
        "    \"Always include a docstring for public modules, functions, classes, and methods.\",\n",
        "    \"Class names should use the CapWords convention.\",\n",
        "    \"Use 'self' as the first parameter of instance methods.\"\n",
        "]"
      ],
      "metadata": {
        "id": "KVAh3RFLfdKw"
      },
      "execution_count": null,
      "outputs": []
    },
    {
      "cell_type": "code",
      "source": [
        "embed_model = SentenceTransformer(\"all-MiniLM-L6-v2\")\n",
        "pep8_embeddings = embed_model.encode(pep8_guidelines).astype(\"float32\")\n",
        "\n",
        "index = faiss.IndexFlatL2(pep8_embeddings.shape[1])\n",
        "index.add(pep8_embeddings)"
      ],
      "metadata": {
        "id": "tKP9msgnfe_4"
      },
      "execution_count": null,
      "outputs": []
    },
    {
      "cell_type": "code",
      "source": [
        "def retrieve_pep8_recommendations(query, top_k=3):\n",
        "    query_vector = embed_model.encode([query]).astype(\"float32\")\n",
        "    distances, indices = index.search(query_vector, top_k)\n",
        "    return [pep8_guidelines[i] for i in indices[0]]"
      ],
      "metadata": {
        "id": "eSm8FZ4afhTw"
      },
      "execution_count": null,
      "outputs": []
    },
    {
      "cell_type": "code",
      "source": [
        "# Code Generator Agent\n",
        "def generate_code(prompt):\n",
        "    pep8_tips = retrieve_pep8_recommendations(prompt)\n",
        "    pep8_text = \"\\n\".join(pep8_tips)\n",
        "    full_prompt = f\"\"\"Write Python code for the following task:\n",
        "\n",
        "    Task: {prompt}\n",
        "\n",
        "    Please follow these PEP 8 Guidelines:\n",
        "    {pep8_text}\n",
        "\n",
        "    Output only code.\"\"\"\n",
        "    response = client.models.generate_content(\n",
        "        model=\"gemini-2.0-flash\",\n",
        "        contents=f\"Write Python code for the following task:\\n{prompt}\")\n",
        "    return response.text.strip('```python').strip('```').strip()"
      ],
      "metadata": {
        "id": "iMgx1cEQfkGR"
      },
      "execution_count": null,
      "outputs": []
    },
    {
      "cell_type": "code",
      "source": [
        "# Code Executor Agent (Simulated execution)\n",
        "import traceback\n",
        "\n",
        "def execute_code(code):\n",
        "    try:\n",
        "        exec_globals = {}\n",
        "        exec(code, exec_globals)\n",
        "        return \"SUCCESS\", None\n",
        "    except Exception as e:\n",
        "        return \"ERROR\", traceback.format_exc()"
      ],
      "metadata": {
        "id": "lCTMNNEffmSo"
      },
      "execution_count": null,
      "outputs": []
    },
    {
      "cell_type": "code",
      "source": [
        "# Error Fixer Agent\n",
        "def fix_code(original_code, error_message):\n",
        "    prompt = f\"\"\"The following Python code has an error:\n",
        "    {original_code}\n",
        "    Error Message:\n",
        "    {error_message}\n",
        "    Output only the fixed code.\"\"\"\n",
        "\n",
        "    response = client.models.generate_content(\n",
        "                model=\"gemini-2.0-flash\",\n",
        "                contents=prompt)\n",
        "    return response.text.strip('```python').strip('```').strip()"
      ],
      "metadata": {
        "id": "9JelTHaFfpX4"
      },
      "execution_count": null,
      "outputs": []
    },
    {
      "cell_type": "code",
      "source": [
        "# Code Explaining Agent\n",
        "def explain_code(code):\n",
        "    prompt = f\"\"\"Please explain the following Python code in simple bullet points. Use clear and beginner-friendly language.\n",
        "   Code:\n",
        "    ```python\n",
        "    {code}\n",
        "    Explanation: \"\"\"\n",
        "\n",
        "    response = client.models.generate_content(\n",
        "        model=\"gemini-2.0-flash\",\n",
        "        contents=prompt)\n",
        "    return response.text.strip('```python').strip('```').strip()"
      ],
      "metadata": {
        "id": "aoDGCqwZfwVQ"
      },
      "execution_count": null,
      "outputs": []
    },
    {
      "cell_type": "code",
      "source": [
        "def validate_code(prompt, max_attempts=3):\n",
        "    code = generate_code(prompt)\n",
        "    for attempt in range(max_attempts):\n",
        "        print(f\"\\n Attempt {attempt + 1}:\\n{code}\\n\")\n",
        "        status, error = execute_code(code)\n",
        "        if status == \"SUCCESS\":\n",
        "            print(\"Code executed successfully without errors!\")\n",
        "            explantion=explain_code(code)\n",
        "            return code\n",
        "        else:\n",
        "            print(f\"Error Detected:\\n{error}\")\n",
        "            code = fix_code(code, error)\n",
        "    print(\"Maximum attempts reached. Final code might still have issues.\")\n",
        "    return code"
      ],
      "metadata": {
        "id": "4ztu-wxifzDw"
      },
      "execution_count": null,
      "outputs": []
    },
    {
      "cell_type": "code",
      "source": [
        "final_code = validate_code(\"Write a Python function to calculate factorial of a number input by the user\")\n",
        "print(\"\\n🧾 Final Code:\\n\", final_code)"
      ],
      "metadata": {
        "id": "ISSWamGGf064"
      },
      "execution_count": null,
      "outputs": []
    }
  ]
}